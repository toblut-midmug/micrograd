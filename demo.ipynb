{
 "cells": [
  {
   "cell_type": "markdown",
   "metadata": {},
   "source": [
    "###  MicroGrad demo"
   ]
  },
  {
   "cell_type": "code",
   "execution_count": 17,
   "metadata": {},
   "outputs": [],
   "source": [
    "import random\n",
    "import numpy as np\n",
    "import matplotlib.pyplot as plt\n",
    "%matplotlib inline"
   ]
  },
  {
   "cell_type": "code",
   "execution_count": 18,
   "metadata": {},
   "outputs": [],
   "source": [
    "from micrograd.engine import Value\n",
    "from micrograd.nn import Neuron, Layer, MLP"
   ]
  },
  {
   "cell_type": "code",
   "execution_count": 19,
   "metadata": {},
   "outputs": [],
   "source": [
    "np.random.seed(1)\n",
    "random.seed(1)"
   ]
  },
  {
   "cell_type": "code",
   "execution_count": 20,
   "metadata": {},
   "outputs": [
    {
     "data": {
      "text/plain": [
       "<matplotlib.collections.PathCollection at 0x7f87e2469940>"
      ]
     },
     "execution_count": 20,
     "metadata": {},
     "output_type": "execute_result"
    },
    {
     "data": {
      "image/png": "[encoded data removed]",
      "text/plain": [
       "<Figure size 360x360 with 1 Axes>"
      ]
     },
     "metadata": {
      "needs_background": "light"
     },
     "output_type": "display_data"
    }
   ],
   "source": [
    "# make up a dataset\n",
    "\n",
    "from sklearn.datasets import make_moons, make_blobs\n",
    "X, y = make_moons(n_samples=100, noise=0.1)\n",
    "\n",
    "y = y*2 - 1 # make y be -1 or 1\n",
    "# visualize in 2D\n",
    "plt.figure(figsize=(5,5))\n",
    "plt.scatter(X[:,0], X[:,1], c=y, s=20, cmap='jet')"
   ]
  },
  {
   "cell_type": "code",
   "execution_count": 21,
   "metadata": {},
   "outputs": [
    {
     "name": "stdout",
     "output_type": "stream",
     "text": [
      "MLP of [Layer of [ReLUNeuron(2), ReLUNeuron(2), ReLUNeuron(2), ReLUNeuron(2), ReLUNeuron(2), ReLUNeuron(2), ReLUNeuron(2), ReLUNeuron(2)], Layer of [ReLUNeuron(8), ReLUNeuron(8), ReLUNeuron(8), ReLUNeuron(8)], Layer of [LinearNeuron(4)]]\n",
      "number of parameters 65\n"
     ]
    }
   ],
   "source": [
    "# initialize a model \n",
    "model = MLP(2, [8, 4, 1]) # 2-layer neural network\n",
    "print(model)\n",
    "print(\"number of parameters\", len(model.parameters()))"
   ]
  },
  {
   "cell_type": "code",
   "execution_count": 22,
   "metadata": {},
   "outputs": [
    {
     "name": "stdout",
     "output_type": "stream",
     "text": [
      "Value(data=0.7145590847464076, grad=0) 0.52\n"
     ]
    }
   ],
   "source": [
    "# loss function\n",
    "def loss(batch_size=None):\n",
    "    \n",
    "    # inline DataLoader :)\n",
    "    if batch_size is None:\n",
    "        Xb, yb = X, y\n",
    "    else:\n",
    "        ri = np.random.permutation(X.shape[0])[:batch_size]\n",
    "        Xb, yb = X[ri], y[ri]\n",
    "    inputs = [list(map(Value, xrow)) for xrow in Xb]\n",
    "    \n",
    "    # forward the model to get scores\n",
    "    scores = list(map(model, inputs))\n",
    "    \n",
    "    # svm \"max-margin\" loss\n",
    "    losses = [(1 + -yi*scorei).relu() for yi, scorei in zip(yb, scores)]\n",
    "    data_loss = sum(losses) * (1.0 / len(losses))\n",
    "    # L2 regularization\n",
    "    alpha = 1e-4\n",
    "    reg_loss = alpha * sum((p*p for p in model.parameters()))\n",
    "    total_loss = data_loss + reg_loss\n",
    "    \n",
    "    # also get accuracy\n",
    "    accuracy = [(yi > 0) == (scorei.data > 0) for yi, scorei in zip(yb, scores)]\n",
    "    return total_loss, sum(accuracy) / len(accuracy)\n",
    "\n",
    "total_loss, acc = loss()\n",
    "print(total_loss, acc)"
   ]
  },
  {
   "cell_type": "code",
   "execution_count": 23,
   "metadata": {},
   "outputs": [
    {
     "name": "stdout",
     "output_type": "stream",
     "text": [
      "step 0 loss 0.7145590847464076, accuracy 52.0%\n",
      "step 1 loss 0.5893092375206254, accuracy 85.0%\n",
      "step 2 loss 0.47255958025149053, accuracy 85.0%\n",
      "step 3 loss 0.35679333891564685, accuracy 86.0%\n",
      "step 4 loss 0.3023718667443133, accuracy 85.0%\n",
      "step 5 loss 0.32311828334580983, accuracy 86.0%\n",
      "step 6 loss 0.48914567490647975, accuracy 82.0%\n",
      "step 7 loss 0.4166307990106607, accuracy 83.0%\n",
      "step 8 loss 0.63456554504213, accuracy 83.0%\n",
      "step 9 loss 0.3402888476495425, accuracy 85.0%\n",
      "step 10 loss 0.2925696813124562, accuracy 85.0%\n",
      "step 11 loss 0.27379857541576313, accuracy 87.0%\n",
      "step 12 loss 0.26179290811327544, accuracy 87.0%\n",
      "step 13 loss 0.2552663567915151, accuracy 89.0%\n",
      "step 14 loss 0.25415085190568615, accuracy 88.0%\n",
      "step 15 loss 0.2599147442727289, accuracy 87.0%\n",
      "step 16 loss 0.2672618750905596, accuracy 92.0%\n",
      "step 17 loss 0.29883167362504204, accuracy 85.0%\n",
      "step 18 loss 0.28442859697346795, accuracy 91.0%\n",
      "step 19 loss 0.2833176495316181, accuracy 86.0%\n",
      "step 20 loss 0.25165772173100004, accuracy 92.0%\n",
      "step 21 loss 0.26369435150928666, accuracy 87.0%\n",
      "step 22 loss 0.23592041445590572, accuracy 91.0%\n",
      "step 23 loss 0.2505366016949533, accuracy 87.0%\n",
      "step 24 loss 0.22354825133312956, accuracy 93.0%\n",
      "step 25 loss 0.2177682098728449, accuracy 91.0%\n",
      "step 26 loss 0.21289848950609933, accuracy 94.0%\n",
      "step 27 loss 0.22678754455642813, accuracy 89.0%\n",
      "step 28 loss 0.21552896797853516, accuracy 92.0%\n",
      "step 29 loss 0.23036258580693067, accuracy 90.0%\n",
      "step 30 loss 0.22197765913441378, accuracy 92.0%\n",
      "step 31 loss 0.24151172276424898, accuracy 90.0%\n",
      "step 32 loss 0.20236035277957007, accuracy 94.0%\n",
      "step 33 loss 0.21197577146361862, accuracy 90.0%\n",
      "step 34 loss 0.21308538848156564, accuracy 92.0%\n",
      "step 35 loss 0.22306341054594736, accuracy 90.0%\n",
      "step 36 loss 0.20954630270808938, accuracy 92.0%\n",
      "step 37 loss 0.21593491540432305, accuracy 90.0%\n",
      "step 38 loss 0.20116647714633662, accuracy 92.0%\n",
      "step 39 loss 0.2069947788298206, accuracy 90.0%\n",
      "step 40 loss 0.1851220823445179, accuracy 94.0%\n",
      "step 41 loss 0.18184030893060896, accuracy 92.0%\n",
      "step 42 loss 0.17229598394630874, accuracy 95.0%\n",
      "step 43 loss 0.19652931345631033, accuracy 90.0%\n",
      "step 44 loss 0.1556347570920481, accuracy 95.0%\n",
      "step 45 loss 0.13797100298037393, accuracy 95.0%\n",
      "step 46 loss 0.1649812277328574, accuracy 95.0%\n",
      "step 47 loss 0.2181120174650204, accuracy 89.0%\n",
      "step 48 loss 0.18213478939878888, accuracy 94.0%\n",
      "step 49 loss 0.12079256845953168, accuracy 95.0%\n",
      "step 50 loss 0.09809730212963338, accuracy 97.0%\n",
      "step 51 loss 0.08763357727505489, accuracy 97.0%\n",
      "step 52 loss 0.07901027691171644, accuracy 97.0%\n",
      "step 53 loss 0.07412596285458743, accuracy 97.0%\n",
      "step 54 loss 0.07744826748937242, accuracy 98.0%\n",
      "step 55 loss 0.07118380358834771, accuracy 97.0%\n",
      "step 56 loss 0.07264079931528397, accuracy 98.0%\n",
      "step 57 loss 0.05840278044207921, accuracy 98.0%\n",
      "step 58 loss 0.054417664663581, accuracy 99.0%\n",
      "step 59 loss 0.0501482931411087, accuracy 99.0%\n",
      "step 60 loss 0.04829695065712584, accuracy 98.0%\n",
      "step 61 loss 0.04618182666739436, accuracy 99.0%\n",
      "step 62 loss 0.04356566321030557, accuracy 99.0%\n",
      "step 63 loss 0.04338821852754263, accuracy 99.0%\n",
      "step 64 loss 0.036863140979555245, accuracy 98.0%\n",
      "step 65 loss 0.035620036953789375, accuracy 99.0%\n",
      "step 66 loss 0.032911334733263846, accuracy 99.0%\n",
      "step 67 loss 0.030908339559597674, accuracy 99.0%\n",
      "step 68 loss 0.027168718515900858, accuracy 99.0%\n",
      "step 69 loss 0.03529533470473624, accuracy 98.0%\n",
      "step 70 loss 0.0625617083756487, accuracy 98.0%\n",
      "step 71 loss 0.1025762872858196, accuracy 98.0%\n",
      "step 72 loss 0.09442951143136599, accuracy 96.0%\n",
      "step 73 loss 0.028232615409351992, accuracy 99.0%\n",
      "step 74 loss 0.024371015595240277, accuracy 99.0%\n",
      "step 75 loss 0.023644217687285037, accuracy 99.0%\n",
      "step 76 loss 0.02782519544258498, accuracy 99.0%\n",
      "step 77 loss 0.026978877562959705, accuracy 99.0%\n",
      "step 78 loss 0.028031521916026904, accuracy 99.0%\n",
      "step 79 loss 0.021429230111864307, accuracy 99.0%\n",
      "step 80 loss 0.02124816259961036, accuracy 99.0%\n",
      "step 81 loss 0.021969975017754842, accuracy 99.0%\n",
      "step 82 loss 0.026528340326238666, accuracy 100.0%\n",
      "step 83 loss 0.028198247658323773, accuracy 99.0%\n",
      "step 84 loss 0.026895600431856896, accuracy 99.0%\n",
      "step 85 loss 0.016602839364759252, accuracy 99.0%\n",
      "step 86 loss 0.020481222855638043, accuracy 100.0%\n",
      "step 87 loss 0.018664144703174207, accuracy 99.0%\n",
      "step 88 loss 0.0224829605560881, accuracy 100.0%\n",
      "step 89 loss 0.014817174497299955, accuracy 100.0%\n",
      "step 90 loss 0.018158877702867993, accuracy 100.0%\n",
      "step 91 loss 0.018589580451793836, accuracy 100.0%\n",
      "step 92 loss 0.02044469204693077, accuracy 100.0%\n",
      "step 93 loss 0.020509212915424055, accuracy 99.0%\n",
      "step 94 loss 0.0191510953673039, accuracy 100.0%\n",
      "step 95 loss 0.012583030670638113, accuracy 100.0%\n",
      "step 96 loss 0.012223293830555107, accuracy 100.0%\n",
      "step 97 loss 0.012101143520577359, accuracy 100.0%\n",
      "step 98 loss 0.011984543757460189, accuracy 100.0%\n",
      "step 99 loss 0.011868152060360095, accuracy 100.0%\n"
     ]
    }
   ],
   "source": [
    "# optimization\n",
    "for k in range(100):\n",
    "    \n",
    "    # forward\n",
    "    total_loss, acc = loss()\n",
    "    \n",
    "    # backward\n",
    "    model.zero_grad()\n",
    "    total_loss.backward()\n",
    "    \n",
    "    # update (sgd)\n",
    "    learning_rate = 1.0 - 0.5*k/100\n",
    "    for p in model.parameters():\n",
    "        p.data -= learning_rate * p.grad\n",
    "    \n",
    "    if k % 1 == 0:\n",
    "        print(f\"step {k} loss {total_loss.data}, accuracy {acc*100}%\")\n"
   ]
  },
  {
   "cell_type": "code",
   "execution_count": 24,
   "metadata": {},
   "outputs": [
    {
     "data": {
      "text/plain": [
       "(-1.7609251085622153, 1.9890748914377847)"
      ]
     },
     "execution_count": 24,
     "metadata": {},
     "output_type": "execute_result"
    },
    {
     "data": {
      "image/png": "[encoded data removed]",
      "text/plain": [
       "<Figure size 432x288 with 1 Axes>"
      ]
     },
     "metadata": {
      "needs_background": "light"
     },
     "output_type": "display_data"
    }
   ],
   "source": [
    "# visualize decision boundary\n",
    "\n",
    "h = 0.25\n",
    "x_min, x_max = X[:, 0].min() - 1, X[:, 0].max() + 1\n",
    "y_min, y_max = X[:, 1].min() - 1, X[:, 1].max() + 1\n",
    "xx, yy = np.meshgrid(np.arange(x_min, x_max, h),\n",
    "                     np.arange(y_min, y_max, h))\n",
    "Xmesh = np.c_[xx.ravel(), yy.ravel()]\n",
    "inputs = [list(map(Value, xrow)) for xrow in Xmesh]\n",
    "scores = list(map(model, inputs))\n",
    "Z = np.array([s.data > 0 for s in scores])\n",
    "Z = Z.reshape(xx.shape)\n",
    "\n",
    "fig = plt.figure()\n",
    "plt.contourf(xx, yy, Z, cmap=plt.cm.Spectral, alpha=0.8)\n",
    "plt.scatter(X[:, 0], X[:, 1], c=y, s=40, cmap=plt.cm.Spectral)\n",
    "plt.xlim(xx.min(), xx.max())\n",
    "plt.ylim(yy.min(), yy.max())\n"
   ]
  },
  {
   "cell_type": "code",
   "execution_count": null,
   "metadata": {},
   "outputs": [],
   "source": []
  }
 ],
 "metadata": {
  "kernelspec": {
   "display_name": "Python 3 (ipykernel)",
   "language": "python",
   "name": "python3"
  },
  "language_info": {
   "codemirror_mode": {
    "name": "ipython",
    "version": 3
   },
   "file_extension": ".py",
   "mimetype": "text/x-python",
   "name": "python",
   "nbconvert_exporter": "python",
   "pygments_lexer": "ipython3",
   "version": "3.9.12"
  }
 },
 "nbformat": 4,
 "nbformat_minor": 2
}
